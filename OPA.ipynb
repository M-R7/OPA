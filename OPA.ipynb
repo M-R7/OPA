{
 "cells": [
  {
   "cell_type": "markdown",
   "id": "958ef247",
   "metadata": {},
   "source": [
    "# Étape 1 / Exploration de données non structurées"
   ]
  },
  {
   "cell_type": "markdown",
   "id": "fca75e32",
   "metadata": {},
   "source": [
    "Récolter deux types de données en passant par l’API Binance.  \n",
    "\n",
    "* Grâce à cette API, on peut aller récupérer des informations sur les cours des différents marchés (BTC-USDT, BTC-ETH, …).\n",
    "* Le but sera de créer une fonction de récupération de données générique afin de pouvoir avoir les données de n’importe quel marché."
   ]
  },
  {
   "cell_type": "markdown",
   "id": "101293be",
   "metadata": {},
   "source": [
    "## Explications générales"
   ]
  },
  {
   "cell_type": "markdown",
   "id": "016f8fee",
   "metadata": {},
   "source": [
    ">**API Terminology**\n",
    "\n",
    "These terms will be used throughout the documentation, so it is recommended that you read them to enhance your understanding of the API (especially for new users).\n",
    "- **Base asset** refers to the asset that is the quantity of a symbol; for the symbol BTCUSDT, BTC would be the base asset.\n",
    "- **Quote asset** refers to the asset that is the price of a symbol; for the symbol BTCUSDT, USDT would be the quote asset.  \n",
    "\n",
    ">**Symbol Status**\n",
    "- PRE_TRADING\n",
    "- TRADING\n",
    "- POST_TRADING\n",
    "- END_OF_DAY\n",
    "- HALT\n",
    "- AUCTION_MATCH\n",
    "- BREAK  \n",
    "\n",
    ">**Status\tDescription**\n",
    "\n",
    "`NEW`\tThe order has been accepted by the engine  \n",
    "`PARTIALLY_FILLED`\tPart of the order has been filled  \n",
    "`FILLED`\tThe order has been completed  \n",
    "`CANCELED`\tThe order has been canceled by the user  \n",
    "`PENDING_CANCEL`\tThis is currently unused  \n",
    "`REJECTED`\tThe order was not accepted by the engine and not processed  \n",
    "`EXPIRED`\tThe order was canceled according to the order type's rules (e.g., LIMIT FOK orders with no fill, LIMIT IOC, or MARKET orders that partially fill), or by the exchange(e.g., orders canceled during liquidation or orders canceled during maintenance)  \n",
    "`EXPIRED_IN_MATCH`\tThe order was canceled by the exchange due to STP. (e.g. an order with EXPIRE_TAKER will match with existing orders on the book with the same account or same tradeGroupId)  "
   ]
  },
  {
   "cell_type": "markdown",
   "id": "e7ac998c",
   "metadata": {},
   "source": [
    "## Données de base des paires"
   ]
  },
  {
   "cell_type": "code",
   "execution_count": null,
   "id": "12d38848",
   "metadata": {},
   "outputs": [
    {
     "data": {
      "text/html": [
       "<div>\n",
       "<style scoped>\n",
       "    .dataframe tbody tr th:only-of-type {\n",
       "        vertical-align: middle;\n",
       "    }\n",
       "\n",
       "    .dataframe tbody tr th {\n",
       "        vertical-align: top;\n",
       "    }\n",
       "\n",
       "    .dataframe thead th {\n",
       "        text-align: right;\n",
       "    }\n",
       "</style>\n",
       "<table border=\"1\" class=\"dataframe\">\n",
       "  <thead>\n",
       "    <tr style=\"text-align: right;\">\n",
       "      <th></th>\n",
       "      <th>symbol</th>\n",
       "      <th>baseAsset</th>\n",
       "      <th>quoteAsset</th>\n",
       "      <th>status</th>\n",
       "      <th>minPrice</th>\n",
       "      <th>maxPrice</th>\n",
       "      <th>tickSize</th>\n",
       "      <th>minQty</th>\n",
       "      <th>maxQty</th>\n",
       "      <th>stepSize</th>\n",
       "      <th>minNotional</th>\n",
       "      <th>maxNotional</th>\n",
       "    </tr>\n",
       "  </thead>\n",
       "  <tbody>\n",
       "    <tr>\n",
       "      <th>0</th>\n",
       "      <td>ETHBTC</td>\n",
       "      <td>ETH</td>\n",
       "      <td>BTC</td>\n",
       "      <td>TRADING</td>\n",
       "      <td>0.00001</td>\n",
       "      <td>922327</td>\n",
       "      <td>0.00001</td>\n",
       "      <td>0.0001</td>\n",
       "      <td>100000</td>\n",
       "      <td>0.0001</td>\n",
       "      <td>0.0001</td>\n",
       "      <td>9000000</td>\n",
       "    </tr>\n",
       "    <tr>\n",
       "      <th>1</th>\n",
       "      <td>LTCBTC</td>\n",
       "      <td>LTC</td>\n",
       "      <td>BTC</td>\n",
       "      <td>TRADING</td>\n",
       "      <td>0.000001</td>\n",
       "      <td>100000</td>\n",
       "      <td>0.000001</td>\n",
       "      <td>0.001</td>\n",
       "      <td>100000</td>\n",
       "      <td>0.001</td>\n",
       "      <td>0.0001</td>\n",
       "      <td>9000000</td>\n",
       "    </tr>\n",
       "    <tr>\n",
       "      <th>2</th>\n",
       "      <td>BNBBTC</td>\n",
       "      <td>BNB</td>\n",
       "      <td>BTC</td>\n",
       "      <td>TRADING</td>\n",
       "      <td>0.000001</td>\n",
       "      <td>100000</td>\n",
       "      <td>0.000001</td>\n",
       "      <td>0.001</td>\n",
       "      <td>100000</td>\n",
       "      <td>0.001</td>\n",
       "      <td>0.0001</td>\n",
       "      <td>9000000</td>\n",
       "    </tr>\n",
       "    <tr>\n",
       "      <th>3</th>\n",
       "      <td>NEOBTC</td>\n",
       "      <td>NEO</td>\n",
       "      <td>BTC</td>\n",
       "      <td>TRADING</td>\n",
       "      <td>0.0000001</td>\n",
       "      <td>100000</td>\n",
       "      <td>0.0000001</td>\n",
       "      <td>0.01</td>\n",
       "      <td>100000</td>\n",
       "      <td>0.01</td>\n",
       "      <td>0.0001</td>\n",
       "      <td>9000000</td>\n",
       "    </tr>\n",
       "    <tr>\n",
       "      <th>4</th>\n",
       "      <td>QTUMETH</td>\n",
       "      <td>QTUM</td>\n",
       "      <td>ETH</td>\n",
       "      <td>TRADING</td>\n",
       "      <td>0.000001</td>\n",
       "      <td>1000</td>\n",
       "      <td>0.000001</td>\n",
       "      <td>0.1</td>\n",
       "      <td>90000000</td>\n",
       "      <td>0.1</td>\n",
       "      <td>0.001</td>\n",
       "      <td>9000000</td>\n",
       "    </tr>\n",
       "  </tbody>\n",
       "</table>\n",
       "</div>"
      ],
      "text/plain": [
       "    symbol baseAsset quoteAsset   status  minPrice  maxPrice  tickSize  \\\n",
       "0   ETHBTC       ETH        BTC  TRADING   0.00001    922327   0.00001   \n",
       "1   LTCBTC       LTC        BTC  TRADING  0.000001    100000  0.000001   \n",
       "2   BNBBTC       BNB        BTC  TRADING  0.000001    100000  0.000001   \n",
       "3   NEOBTC       NEO        BTC  TRADING 0.0000001    100000 0.0000001   \n",
       "4  QTUMETH      QTUM        ETH  TRADING  0.000001      1000  0.000001   \n",
       "\n",
       "   minQty   maxQty  stepSize  minNotional  maxNotional  \n",
       "0  0.0001   100000    0.0001       0.0001      9000000  \n",
       "1   0.001   100000     0.001       0.0001      9000000  \n",
       "2   0.001   100000     0.001       0.0001      9000000  \n",
       "3    0.01   100000      0.01       0.0001      9000000  \n",
       "4     0.1 90000000       0.1        0.001      9000000  "
      ]
     },
     "metadata": {},
     "output_type": "display_data"
    }
   ],
   "source": [
    "import requests\n",
    "import pandas as pd\n",
    "\n",
    "# Format d'affichage plus lisible pour les floats\n",
    "#pd.options.display.float_format = '{:.8f}'.format\n",
    "pd.options.display.float_format = lambda x: f'{x:.10f}'.rstrip('0').rstrip('.') if '.' in f'{x:.10f}' else f'{x:.10f}' # formatage des floats pour enlever les zéros inutiles\n",
    "\n",
    "def get_pairs_list():\n",
    "    url = 'https://api.binance.com/api/v3/exchangeInfo'\n",
    "    data = requests.get(url).json()\n",
    "    # Liste de toutes les paires\n",
    "    pairs_list = data['symbols']\n",
    "    return pairs_list\n",
    "\n",
    "def get_pair_info(pair):\n",
    "    filtres = { f['filterType']: f for f in pair['filters'] } # on transforme la liste de filtres en dictionnaire pour un accès plus facile\n",
    "\n",
    "    return {\n",
    "        'symbol': pair['symbol'],\n",
    "        'baseAsset': pair['baseAsset'],\n",
    "        'quoteAsset': pair['quoteAsset'],\n",
    "        'status': pair['status'],\n",
    "        'minPrice': filtres.get('PRICE_FILTER', {}).get('minPrice'),\n",
    "        'maxPrice': filtres.get('PRICE_FILTER', {}).get('maxPrice'),\n",
    "        'tickSize': filtres.get('PRICE_FILTER', {}).get('tickSize'),\n",
    "        'minQty': filtres.get('LOT_SIZE', {}).get('minQty'),\n",
    "        'maxQty': filtres.get('LOT_SIZE', {}).get('maxQty'),\n",
    "        'stepSize': filtres.get('LOT_SIZE', {}).get('stepSize'),\n",
    "        'minNotional': filtres.get('NOTIONAL', {}).get('minNotional'),\n",
    "        'maxNotional': filtres.get('NOTIONAL', {}).get('maxNotional'),\n",
    "    }\n",
    "\n",
    "pairs_list = get_pairs_list()\n",
    "pairs_general_infos = [get_pair_info(pair) for pair in pairs_list]\n",
    "\n",
    "# Conversion en DataFrame\n",
    "df_pairs_general_infos = pd.DataFrame(pairs_general_infos)\n",
    "\n",
    "# Conversion des colonnes numériques en float\n",
    "df_pairs_general_infos[['minPrice', 'maxPrice', 'tickSize', 'minQty', 'maxQty', 'stepSize', 'minNotional', 'maxNotional']] = df_pairs_general_infos[['minPrice', 'maxPrice', 'tickSize', 'minQty', 'maxQty', 'stepSize', 'minNotional', 'maxNotional']].astype(float)\n",
    "\n",
    "# Affichage\n",
    "display(df_pairs_general_infos.head())"
   ]
  },
  {
   "cell_type": "code",
   "execution_count": null,
   "id": "fc7f02cb",
   "metadata": {},
   "outputs": [],
   "source": []
  },
  {
   "cell_type": "code",
   "execution_count": null,
   "id": "0c4757d6",
   "metadata": {},
   "outputs": [],
   "source": []
  },
  {
   "cell_type": "code",
   "execution_count": null,
   "id": "c7bfffd6",
   "metadata": {},
   "outputs": [],
   "source": []
  },
  {
   "cell_type": "code",
   "execution_count": null,
   "id": "cf395959",
   "metadata": {},
   "outputs": [],
   "source": []
  },
  {
   "cell_type": "code",
   "execution_count": 47,
   "id": "633277bd",
   "metadata": {},
   "outputs": [],
   "source": [
    "df_pairs_general_infos[['minPrice', 'maxPrice', 'tickSize', 'minQty', 'maxQty', 'stepSize', 'minNotional', 'maxNotional']] = df_pairs_general_infos[['minPrice', 'maxPrice', 'tickSize', 'minQty', 'maxQty', 'stepSize', 'minNotional', 'maxNotional']].astype(float)"
   ]
  },
  {
   "cell_type": "code",
   "execution_count": 48,
   "id": "35b10e72",
   "metadata": {},
   "outputs": [
    {
     "data": {
      "text/plain": [
       "symbol          object\n",
       "baseAsset       object\n",
       "quoteAsset      object\n",
       "status          object\n",
       "minPrice       float64\n",
       "maxPrice       float64\n",
       "tickSize       float64\n",
       "minQty         float64\n",
       "maxQty         float64\n",
       "stepSize       float64\n",
       "minNotional    float64\n",
       "maxNotional    float64\n",
       "dtype: object"
      ]
     },
     "execution_count": 48,
     "metadata": {},
     "output_type": "execute_result"
    }
   ],
   "source": [
    "df_pairs_general_infos.dtypes"
   ]
  },
  {
   "cell_type": "code",
   "execution_count": null,
   "id": "60b93cf1",
   "metadata": {},
   "outputs": [],
   "source": []
  },
  {
   "cell_type": "code",
   "execution_count": null,
   "id": "4cc5938d",
   "metadata": {},
   "outputs": [],
   "source": []
  },
  {
   "cell_type": "code",
   "execution_count": null,
   "id": "2f1a8a94",
   "metadata": {},
   "outputs": [],
   "source": []
  },
  {
   "cell_type": "code",
   "execution_count": 40,
   "id": "7eebee61",
   "metadata": {},
   "outputs": [
    {
     "data": {
      "text/html": [
       "<div>\n",
       "<style scoped>\n",
       "    .dataframe tbody tr th:only-of-type {\n",
       "        vertical-align: middle;\n",
       "    }\n",
       "\n",
       "    .dataframe tbody tr th {\n",
       "        vertical-align: top;\n",
       "    }\n",
       "\n",
       "    .dataframe thead th {\n",
       "        text-align: right;\n",
       "    }\n",
       "</style>\n",
       "<table border=\"1\" class=\"dataframe\">\n",
       "  <thead>\n",
       "    <tr style=\"text-align: right;\">\n",
       "      <th></th>\n",
       "      <th>symbol</th>\n",
       "      <th>baseAsset</th>\n",
       "      <th>quoteAsset</th>\n",
       "      <th>status</th>\n",
       "      <th>orderTypes</th>\n",
       "      <th>minPrice</th>\n",
       "      <th>maxPrice</th>\n",
       "      <th>tickSize</th>\n",
       "      <th>minQty</th>\n",
       "      <th>maxQty</th>\n",
       "      <th>stepSize</th>\n",
       "      <th>minNotional</th>\n",
       "      <th>maxNotional</th>\n",
       "    </tr>\n",
       "  </thead>\n",
       "  <tbody>\n",
       "    <tr>\n",
       "      <th>0</th>\n",
       "      <td>ETHBTC</td>\n",
       "      <td>ETH</td>\n",
       "      <td>BTC</td>\n",
       "      <td>TRADING</td>\n",
       "      <td>[LIMIT, LIMIT_MAKER, MARKET, STOP_LOSS, STOP_L...</td>\n",
       "      <td>0.00001000</td>\n",
       "      <td>922327.00000000</td>\n",
       "      <td>0.00001000</td>\n",
       "      <td>0.00010000</td>\n",
       "      <td>100000.00000000</td>\n",
       "      <td>0.00010000</td>\n",
       "      <td>0.00010000</td>\n",
       "      <td>9000000.00000000</td>\n",
       "    </tr>\n",
       "    <tr>\n",
       "      <th>1</th>\n",
       "      <td>LTCBTC</td>\n",
       "      <td>LTC</td>\n",
       "      <td>BTC</td>\n",
       "      <td>TRADING</td>\n",
       "      <td>[LIMIT, LIMIT_MAKER, MARKET, STOP_LOSS, STOP_L...</td>\n",
       "      <td>0.00000100</td>\n",
       "      <td>100000.00000000</td>\n",
       "      <td>0.00000100</td>\n",
       "      <td>0.00100000</td>\n",
       "      <td>100000.00000000</td>\n",
       "      <td>0.00100000</td>\n",
       "      <td>0.00010000</td>\n",
       "      <td>9000000.00000000</td>\n",
       "    </tr>\n",
       "    <tr>\n",
       "      <th>2</th>\n",
       "      <td>BNBBTC</td>\n",
       "      <td>BNB</td>\n",
       "      <td>BTC</td>\n",
       "      <td>TRADING</td>\n",
       "      <td>[LIMIT, LIMIT_MAKER, MARKET, STOP_LOSS, STOP_L...</td>\n",
       "      <td>0.00000100</td>\n",
       "      <td>100000.00000000</td>\n",
       "      <td>0.00000100</td>\n",
       "      <td>0.00100000</td>\n",
       "      <td>100000.00000000</td>\n",
       "      <td>0.00100000</td>\n",
       "      <td>0.00010000</td>\n",
       "      <td>9000000.00000000</td>\n",
       "    </tr>\n",
       "    <tr>\n",
       "      <th>3</th>\n",
       "      <td>NEOBTC</td>\n",
       "      <td>NEO</td>\n",
       "      <td>BTC</td>\n",
       "      <td>TRADING</td>\n",
       "      <td>[LIMIT, LIMIT_MAKER, MARKET, STOP_LOSS, STOP_L...</td>\n",
       "      <td>0.00000010</td>\n",
       "      <td>100000.00000000</td>\n",
       "      <td>0.00000010</td>\n",
       "      <td>0.01000000</td>\n",
       "      <td>100000.00000000</td>\n",
       "      <td>0.01000000</td>\n",
       "      <td>0.00010000</td>\n",
       "      <td>9000000.00000000</td>\n",
       "    </tr>\n",
       "    <tr>\n",
       "      <th>4</th>\n",
       "      <td>QTUMETH</td>\n",
       "      <td>QTUM</td>\n",
       "      <td>ETH</td>\n",
       "      <td>TRADING</td>\n",
       "      <td>[LIMIT, LIMIT_MAKER, MARKET, STOP_LOSS, STOP_L...</td>\n",
       "      <td>0.00000100</td>\n",
       "      <td>1000.00000000</td>\n",
       "      <td>0.00000100</td>\n",
       "      <td>0.10000000</td>\n",
       "      <td>90000000.00000000</td>\n",
       "      <td>0.10000000</td>\n",
       "      <td>0.00100000</td>\n",
       "      <td>9000000.00000000</td>\n",
       "    </tr>\n",
       "  </tbody>\n",
       "</table>\n",
       "</div>"
      ],
      "text/plain": [
       "    symbol baseAsset quoteAsset   status  \\\n",
       "0   ETHBTC       ETH        BTC  TRADING   \n",
       "1   LTCBTC       LTC        BTC  TRADING   \n",
       "2   BNBBTC       BNB        BTC  TRADING   \n",
       "3   NEOBTC       NEO        BTC  TRADING   \n",
       "4  QTUMETH      QTUM        ETH  TRADING   \n",
       "\n",
       "                                          orderTypes    minPrice  \\\n",
       "0  [LIMIT, LIMIT_MAKER, MARKET, STOP_LOSS, STOP_L...  0.00001000   \n",
       "1  [LIMIT, LIMIT_MAKER, MARKET, STOP_LOSS, STOP_L...  0.00000100   \n",
       "2  [LIMIT, LIMIT_MAKER, MARKET, STOP_LOSS, STOP_L...  0.00000100   \n",
       "3  [LIMIT, LIMIT_MAKER, MARKET, STOP_LOSS, STOP_L...  0.00000010   \n",
       "4  [LIMIT, LIMIT_MAKER, MARKET, STOP_LOSS, STOP_L...  0.00000100   \n",
       "\n",
       "          maxPrice    tickSize      minQty             maxQty    stepSize  \\\n",
       "0  922327.00000000  0.00001000  0.00010000    100000.00000000  0.00010000   \n",
       "1  100000.00000000  0.00000100  0.00100000    100000.00000000  0.00100000   \n",
       "2  100000.00000000  0.00000100  0.00100000    100000.00000000  0.00100000   \n",
       "3  100000.00000000  0.00000010  0.01000000    100000.00000000  0.01000000   \n",
       "4    1000.00000000  0.00000100  0.10000000  90000000.00000000  0.10000000   \n",
       "\n",
       "  minNotional       maxNotional  \n",
       "0  0.00010000  9000000.00000000  \n",
       "1  0.00010000  9000000.00000000  \n",
       "2  0.00010000  9000000.00000000  \n",
       "3  0.00010000  9000000.00000000  \n",
       "4  0.00100000  9000000.00000000  "
      ]
     },
     "metadata": {},
     "output_type": "display_data"
    }
   ],
   "source": [
    "display(df_pairs_general_infos.head())"
   ]
  },
  {
   "cell_type": "code",
   "execution_count": null,
   "id": "b742d81f",
   "metadata": {},
   "outputs": [],
   "source": []
  },
  {
   "cell_type": "markdown",
   "id": "14cdce27",
   "metadata": {},
   "source": [
    "###Fonction avec une liste"
   ]
  },
  {
   "cell_type": "code",
   "execution_count": 31,
   "id": "a9e2b75b",
   "metadata": {},
   "outputs": [
    {
     "name": "stdout",
     "output_type": "stream",
     "text": [
      "None\n"
     ]
    }
   ],
   "source": [
    "import requests\n",
    "import pandas as pd\n",
    "import json\n",
    "\n",
    "def get_pair_info(pairs):\n",
    "    url = 'https://api.binance.com/api/v3/exchangeInfo'\n",
    "    params = { 'symbols': json.dumps(pairs) } \n",
    "    data = requests.get(url, params = params).json()\n",
    "\n",
    "    if not data.get('symbols'):\n",
    "        return None  \n",
    "\n",
    "    pairs_general_info = []\n",
    "\n",
    "    for symbol_data in data['symbols']:\n",
    "        filtres = { f['filterType']: f for f in symbol_data['filters'] }\n",
    "\n",
    "        pairs_general_info.append({\n",
    "            'symbol': symbol_data['symbol'],\n",
    "            'baseAsset': symbol_data['baseAsset'],\n",
    "            'quoteAsset': symbol_data['quoteAsset'],\n",
    "            'status': symbol_data['status'],\n",
    "            'orderTypes': symbol_data['orderTypes'],\n",
    "            'minPrice': filtres.get('PRICE_FILTER', {}).get('minPrice'),\n",
    "            'maxPrice': filtres.get('PRICE_FILTER', {}).get('maxPrice'),\n",
    "            'tickSize': filtres.get('PRICE_FILTER', {}).get('tickSize'),\n",
    "            'minQty': filtres.get('LOT_SIZE', {}).get('minQty'),\n",
    "            'maxQty': filtres.get('LOT_SIZE', {}).get('maxQty'),\n",
    "            'stepSize': filtres.get('LOT_SIZE', {}).get('stepSize'),\n",
    "            'minNotional': filtres.get('NOTIONAL', {}).get('minNotional'),\n",
    "            'maxNotional': filtres.get('NOTIONAL', {}).get('maxNotional'),\n",
    "        })\n",
    "\n",
    "    return pairs_general_info\n",
    "\n",
    "lst_pairs = ['BTCUSDT', 'ETHUSDT', 'BNBUSDT']\n",
    "info = get_pair_info('BTCUSDT')\n",
    "\n",
    "print(info)\n"
   ]
  },
  {
   "cell_type": "code",
   "execution_count": null,
   "id": "5df3c76d",
   "metadata": {},
   "outputs": [],
   "source": []
  },
  {
   "cell_type": "code",
   "execution_count": 32,
   "id": "da7cc7e0",
   "metadata": {},
   "outputs": [
    {
     "name": "stdout",
     "output_type": "stream",
     "text": [
      "Paire introuvable.\n"
     ]
    }
   ],
   "source": [
    "def display_pair_info(info):\n",
    "    if info is None:\n",
    "        print(\"Paire introuvable.\")\n",
    "        return\n",
    "\n",
    "    print(f\"Pair Informations : {info['symbol']}\\n\")\n",
    "    print(f\"{'Base asset':15} : {info['baseAsset']}\")\n",
    "    print(f\"{'Quote asset':15} : {info['quoteAsset']}\")\n",
    "    print(f\"{'Statut':15} : {info['status']}\")\n",
    "    print(f\"{'Order types':15} : {', '.join(info['orderTypes'])}\")\n",
    "\n",
    "    print(\"\\nPair Prices Informations :\")\n",
    "    print(f\"{'Min price':15} : {info['minPrice']}\")\n",
    "    print(f\"{'Max price':15} : {info['maxPrice']}\")\n",
    "    print(f\"{'Tick size':15} : {info['tickSize']}\")\n",
    "    print(f\"{'Min notional':15} : {info['minNotional']}\")\n",
    "    print(f\"{'Max notional':15} : {info['maxNotional']}\")\n",
    "\n",
    "    print(\"\\nPair Quantity Informations :\")\n",
    "    print(f\"{'Min qty':15} : {info['minQty']}\")\n",
    "    print(f\"{'Max qty':15} : {info['maxQty']}\")\n",
    "    print(f\"{'Step size':15} : {info['stepSize']}\")\n",
    "\n",
    "display_pair_info(info)"
   ]
  },
  {
   "cell_type": "code",
   "execution_count": null,
   "id": "7345934b",
   "metadata": {},
   "outputs": [],
   "source": []
  },
  {
   "cell_type": "markdown",
   "id": "b4138393",
   "metadata": {},
   "source": [
    "## Autres données"
   ]
  },
  {
   "cell_type": "code",
   "execution_count": null,
   "id": "edd30cf4",
   "metadata": {},
   "outputs": [],
   "source": []
  },
  {
   "cell_type": "markdown",
   "id": "b68404a6",
   "metadata": {},
   "source": [
    "## Boucle avec toutes les paires pour constuire le dataframe des infos de base"
   ]
  },
  {
   "cell_type": "markdown",
   "id": "7062ee5b",
   "metadata": {},
   "source": [
    "# A garder pour l'étape 3"
   ]
  },
  {
   "cell_type": "code",
   "execution_count": 34,
   "id": "17a9b7ae",
   "metadata": {},
   "outputs": [
    {
     "ename": "KeyboardInterrupt",
     "evalue": "",
     "output_type": "error",
     "traceback": [
      "\u001b[31m---------------------------------------------------------------------------\u001b[39m",
      "\u001b[31mKeyboardInterrupt\u001b[39m                         Traceback (most recent call last)",
      "\u001b[36mCell\u001b[39m\u001b[36m \u001b[39m\u001b[32mIn[34]\u001b[39m\u001b[32m, line 9\u001b[39m\n\u001b[32m      7\u001b[39m pairs_base_infos = []\n\u001b[32m      8\u001b[39m \u001b[38;5;28;01mfor\u001b[39;00m pair \u001b[38;5;129;01min\u001b[39;00m pair_list:\n\u001b[32m----> \u001b[39m\u001b[32m9\u001b[39m     info = \u001b[43mget_pair_info\u001b[49m\u001b[43m(\u001b[49m\u001b[43mpair\u001b[49m\u001b[43m[\u001b[49m\u001b[33;43m'\u001b[39;49m\u001b[33;43msymbol\u001b[39;49m\u001b[33;43m'\u001b[39;49m\u001b[43m]\u001b[49m\u001b[43m)\u001b[49m\n\u001b[32m     10\u001b[39m     \u001b[38;5;28;01mif\u001b[39;00m info \u001b[38;5;129;01mis\u001b[39;00m \u001b[38;5;129;01mnot\u001b[39;00m \u001b[38;5;28;01mNone\u001b[39;00m:\n\u001b[32m     11\u001b[39m         pairs_base_infos.append(info)\n",
      "\u001b[36mCell\u001b[39m\u001b[36m \u001b[39m\u001b[32mIn[31]\u001b[39m\u001b[32m, line 8\u001b[39m, in \u001b[36mget_pair_info\u001b[39m\u001b[34m(pairs)\u001b[39m\n\u001b[32m      6\u001b[39m url = \u001b[33m'\u001b[39m\u001b[33mhttps://api.binance.com/api/v3/exchangeInfo\u001b[39m\u001b[33m'\u001b[39m\n\u001b[32m      7\u001b[39m params = { \u001b[33m'\u001b[39m\u001b[33msymbols\u001b[39m\u001b[33m'\u001b[39m: json.dumps(pairs) } \n\u001b[32m----> \u001b[39m\u001b[32m8\u001b[39m data = \u001b[43mrequests\u001b[49m\u001b[43m.\u001b[49m\u001b[43mget\u001b[49m\u001b[43m(\u001b[49m\u001b[43murl\u001b[49m\u001b[43m,\u001b[49m\u001b[43m \u001b[49m\u001b[43mparams\u001b[49m\u001b[43m \u001b[49m\u001b[43m=\u001b[49m\u001b[43m \u001b[49m\u001b[43mparams\u001b[49m\u001b[43m)\u001b[49m.json()\n\u001b[32m     10\u001b[39m \u001b[38;5;28;01mif\u001b[39;00m \u001b[38;5;129;01mnot\u001b[39;00m data.get(\u001b[33m'\u001b[39m\u001b[33msymbols\u001b[39m\u001b[33m'\u001b[39m):\n\u001b[32m     11\u001b[39m     \u001b[38;5;28;01mreturn\u001b[39;00m \u001b[38;5;28;01mNone\u001b[39;00m  \n",
      "\u001b[36mFile \u001b[39m\u001b[32m~/Documents/Dev/DataScientest/OPA/.venv/lib/python3.13/site-packages/requests/api.py:73\u001b[39m, in \u001b[36mget\u001b[39m\u001b[34m(url, params, **kwargs)\u001b[39m\n\u001b[32m     62\u001b[39m \u001b[38;5;28;01mdef\u001b[39;00m\u001b[38;5;250m \u001b[39m\u001b[34mget\u001b[39m(url, params=\u001b[38;5;28;01mNone\u001b[39;00m, **kwargs):\n\u001b[32m     63\u001b[39m \u001b[38;5;250m    \u001b[39m\u001b[33mr\u001b[39m\u001b[33;03m\"\"\"Sends a GET request.\u001b[39;00m\n\u001b[32m     64\u001b[39m \n\u001b[32m     65\u001b[39m \u001b[33;03m    :param url: URL for the new :class:`Request` object.\u001b[39;00m\n\u001b[32m   (...)\u001b[39m\u001b[32m     70\u001b[39m \u001b[33;03m    :rtype: requests.Response\u001b[39;00m\n\u001b[32m     71\u001b[39m \u001b[33;03m    \"\"\"\u001b[39;00m\n\u001b[32m---> \u001b[39m\u001b[32m73\u001b[39m     \u001b[38;5;28;01mreturn\u001b[39;00m \u001b[43mrequest\u001b[49m\u001b[43m(\u001b[49m\u001b[33;43m\"\u001b[39;49m\u001b[33;43mget\u001b[39;49m\u001b[33;43m\"\u001b[39;49m\u001b[43m,\u001b[49m\u001b[43m \u001b[49m\u001b[43murl\u001b[49m\u001b[43m,\u001b[49m\u001b[43m \u001b[49m\u001b[43mparams\u001b[49m\u001b[43m=\u001b[49m\u001b[43mparams\u001b[49m\u001b[43m,\u001b[49m\u001b[43m \u001b[49m\u001b[43m*\u001b[49m\u001b[43m*\u001b[49m\u001b[43mkwargs\u001b[49m\u001b[43m)\u001b[49m\n",
      "\u001b[36mFile \u001b[39m\u001b[32m~/Documents/Dev/DataScientest/OPA/.venv/lib/python3.13/site-packages/requests/api.py:59\u001b[39m, in \u001b[36mrequest\u001b[39m\u001b[34m(method, url, **kwargs)\u001b[39m\n\u001b[32m     55\u001b[39m \u001b[38;5;66;03m# By using the 'with' statement we are sure the session is closed, thus we\u001b[39;00m\n\u001b[32m     56\u001b[39m \u001b[38;5;66;03m# avoid leaving sockets open which can trigger a ResourceWarning in some\u001b[39;00m\n\u001b[32m     57\u001b[39m \u001b[38;5;66;03m# cases, and look like a memory leak in others.\u001b[39;00m\n\u001b[32m     58\u001b[39m \u001b[38;5;28;01mwith\u001b[39;00m sessions.Session() \u001b[38;5;28;01mas\u001b[39;00m session:\n\u001b[32m---> \u001b[39m\u001b[32m59\u001b[39m     \u001b[38;5;28;01mreturn\u001b[39;00m \u001b[43msession\u001b[49m\u001b[43m.\u001b[49m\u001b[43mrequest\u001b[49m\u001b[43m(\u001b[49m\u001b[43mmethod\u001b[49m\u001b[43m=\u001b[49m\u001b[43mmethod\u001b[49m\u001b[43m,\u001b[49m\u001b[43m \u001b[49m\u001b[43murl\u001b[49m\u001b[43m=\u001b[49m\u001b[43murl\u001b[49m\u001b[43m,\u001b[49m\u001b[43m \u001b[49m\u001b[43m*\u001b[49m\u001b[43m*\u001b[49m\u001b[43mkwargs\u001b[49m\u001b[43m)\u001b[49m\n",
      "\u001b[36mFile \u001b[39m\u001b[32m~/Documents/Dev/DataScientest/OPA/.venv/lib/python3.13/site-packages/requests/sessions.py:589\u001b[39m, in \u001b[36mSession.request\u001b[39m\u001b[34m(self, method, url, params, data, headers, cookies, files, auth, timeout, allow_redirects, proxies, hooks, stream, verify, cert, json)\u001b[39m\n\u001b[32m    584\u001b[39m send_kwargs = {\n\u001b[32m    585\u001b[39m     \u001b[33m\"\u001b[39m\u001b[33mtimeout\u001b[39m\u001b[33m\"\u001b[39m: timeout,\n\u001b[32m    586\u001b[39m     \u001b[33m\"\u001b[39m\u001b[33mallow_redirects\u001b[39m\u001b[33m\"\u001b[39m: allow_redirects,\n\u001b[32m    587\u001b[39m }\n\u001b[32m    588\u001b[39m send_kwargs.update(settings)\n\u001b[32m--> \u001b[39m\u001b[32m589\u001b[39m resp = \u001b[38;5;28;43mself\u001b[39;49m\u001b[43m.\u001b[49m\u001b[43msend\u001b[49m\u001b[43m(\u001b[49m\u001b[43mprep\u001b[49m\u001b[43m,\u001b[49m\u001b[43m \u001b[49m\u001b[43m*\u001b[49m\u001b[43m*\u001b[49m\u001b[43msend_kwargs\u001b[49m\u001b[43m)\u001b[49m\n\u001b[32m    591\u001b[39m \u001b[38;5;28;01mreturn\u001b[39;00m resp\n",
      "\u001b[36mFile \u001b[39m\u001b[32m~/Documents/Dev/DataScientest/OPA/.venv/lib/python3.13/site-packages/requests/sessions.py:703\u001b[39m, in \u001b[36mSession.send\u001b[39m\u001b[34m(self, request, **kwargs)\u001b[39m\n\u001b[32m    700\u001b[39m start = preferred_clock()\n\u001b[32m    702\u001b[39m \u001b[38;5;66;03m# Send the request\u001b[39;00m\n\u001b[32m--> \u001b[39m\u001b[32m703\u001b[39m r = \u001b[43madapter\u001b[49m\u001b[43m.\u001b[49m\u001b[43msend\u001b[49m\u001b[43m(\u001b[49m\u001b[43mrequest\u001b[49m\u001b[43m,\u001b[49m\u001b[43m \u001b[49m\u001b[43m*\u001b[49m\u001b[43m*\u001b[49m\u001b[43mkwargs\u001b[49m\u001b[43m)\u001b[49m\n\u001b[32m    705\u001b[39m \u001b[38;5;66;03m# Total elapsed time of the request (approximately)\u001b[39;00m\n\u001b[32m    706\u001b[39m elapsed = preferred_clock() - start\n",
      "\u001b[36mFile \u001b[39m\u001b[32m~/Documents/Dev/DataScientest/OPA/.venv/lib/python3.13/site-packages/requests/adapters.py:667\u001b[39m, in \u001b[36mHTTPAdapter.send\u001b[39m\u001b[34m(self, request, stream, timeout, verify, cert, proxies)\u001b[39m\n\u001b[32m    664\u001b[39m     timeout = TimeoutSauce(connect=timeout, read=timeout)\n\u001b[32m    666\u001b[39m \u001b[38;5;28;01mtry\u001b[39;00m:\n\u001b[32m--> \u001b[39m\u001b[32m667\u001b[39m     resp = \u001b[43mconn\u001b[49m\u001b[43m.\u001b[49m\u001b[43murlopen\u001b[49m\u001b[43m(\u001b[49m\n\u001b[32m    668\u001b[39m \u001b[43m        \u001b[49m\u001b[43mmethod\u001b[49m\u001b[43m=\u001b[49m\u001b[43mrequest\u001b[49m\u001b[43m.\u001b[49m\u001b[43mmethod\u001b[49m\u001b[43m,\u001b[49m\n\u001b[32m    669\u001b[39m \u001b[43m        \u001b[49m\u001b[43murl\u001b[49m\u001b[43m=\u001b[49m\u001b[43murl\u001b[49m\u001b[43m,\u001b[49m\n\u001b[32m    670\u001b[39m \u001b[43m        \u001b[49m\u001b[43mbody\u001b[49m\u001b[43m=\u001b[49m\u001b[43mrequest\u001b[49m\u001b[43m.\u001b[49m\u001b[43mbody\u001b[49m\u001b[43m,\u001b[49m\n\u001b[32m    671\u001b[39m \u001b[43m        \u001b[49m\u001b[43mheaders\u001b[49m\u001b[43m=\u001b[49m\u001b[43mrequest\u001b[49m\u001b[43m.\u001b[49m\u001b[43mheaders\u001b[49m\u001b[43m,\u001b[49m\n\u001b[32m    672\u001b[39m \u001b[43m        \u001b[49m\u001b[43mredirect\u001b[49m\u001b[43m=\u001b[49m\u001b[38;5;28;43;01mFalse\u001b[39;49;00m\u001b[43m,\u001b[49m\n\u001b[32m    673\u001b[39m \u001b[43m        \u001b[49m\u001b[43massert_same_host\u001b[49m\u001b[43m=\u001b[49m\u001b[38;5;28;43;01mFalse\u001b[39;49;00m\u001b[43m,\u001b[49m\n\u001b[32m    674\u001b[39m \u001b[43m        \u001b[49m\u001b[43mpreload_content\u001b[49m\u001b[43m=\u001b[49m\u001b[38;5;28;43;01mFalse\u001b[39;49;00m\u001b[43m,\u001b[49m\n\u001b[32m    675\u001b[39m \u001b[43m        \u001b[49m\u001b[43mdecode_content\u001b[49m\u001b[43m=\u001b[49m\u001b[38;5;28;43;01mFalse\u001b[39;49;00m\u001b[43m,\u001b[49m\n\u001b[32m    676\u001b[39m \u001b[43m        \u001b[49m\u001b[43mretries\u001b[49m\u001b[43m=\u001b[49m\u001b[38;5;28;43mself\u001b[39;49m\u001b[43m.\u001b[49m\u001b[43mmax_retries\u001b[49m\u001b[43m,\u001b[49m\n\u001b[32m    677\u001b[39m \u001b[43m        \u001b[49m\u001b[43mtimeout\u001b[49m\u001b[43m=\u001b[49m\u001b[43mtimeout\u001b[49m\u001b[43m,\u001b[49m\n\u001b[32m    678\u001b[39m \u001b[43m        \u001b[49m\u001b[43mchunked\u001b[49m\u001b[43m=\u001b[49m\u001b[43mchunked\u001b[49m\u001b[43m,\u001b[49m\n\u001b[32m    679\u001b[39m \u001b[43m    \u001b[49m\u001b[43m)\u001b[49m\n\u001b[32m    681\u001b[39m \u001b[38;5;28;01mexcept\u001b[39;00m (ProtocolError, \u001b[38;5;167;01mOSError\u001b[39;00m) \u001b[38;5;28;01mas\u001b[39;00m err:\n\u001b[32m    682\u001b[39m     \u001b[38;5;28;01mraise\u001b[39;00m \u001b[38;5;167;01mConnectionError\u001b[39;00m(err, request=request)\n",
      "\u001b[36mFile \u001b[39m\u001b[32m~/Documents/Dev/DataScientest/OPA/.venv/lib/python3.13/site-packages/urllib3/connectionpool.py:787\u001b[39m, in \u001b[36mHTTPConnectionPool.urlopen\u001b[39m\u001b[34m(self, method, url, body, headers, retries, redirect, assert_same_host, timeout, pool_timeout, release_conn, chunked, body_pos, preload_content, decode_content, **response_kw)\u001b[39m\n\u001b[32m    784\u001b[39m response_conn = conn \u001b[38;5;28;01mif\u001b[39;00m \u001b[38;5;129;01mnot\u001b[39;00m release_conn \u001b[38;5;28;01melse\u001b[39;00m \u001b[38;5;28;01mNone\u001b[39;00m\n\u001b[32m    786\u001b[39m \u001b[38;5;66;03m# Make the request on the HTTPConnection object\u001b[39;00m\n\u001b[32m--> \u001b[39m\u001b[32m787\u001b[39m response = \u001b[38;5;28;43mself\u001b[39;49m\u001b[43m.\u001b[49m\u001b[43m_make_request\u001b[49m\u001b[43m(\u001b[49m\n\u001b[32m    788\u001b[39m \u001b[43m    \u001b[49m\u001b[43mconn\u001b[49m\u001b[43m,\u001b[49m\n\u001b[32m    789\u001b[39m \u001b[43m    \u001b[49m\u001b[43mmethod\u001b[49m\u001b[43m,\u001b[49m\n\u001b[32m    790\u001b[39m \u001b[43m    \u001b[49m\u001b[43murl\u001b[49m\u001b[43m,\u001b[49m\n\u001b[32m    791\u001b[39m \u001b[43m    \u001b[49m\u001b[43mtimeout\u001b[49m\u001b[43m=\u001b[49m\u001b[43mtimeout_obj\u001b[49m\u001b[43m,\u001b[49m\n\u001b[32m    792\u001b[39m \u001b[43m    \u001b[49m\u001b[43mbody\u001b[49m\u001b[43m=\u001b[49m\u001b[43mbody\u001b[49m\u001b[43m,\u001b[49m\n\u001b[32m    793\u001b[39m \u001b[43m    \u001b[49m\u001b[43mheaders\u001b[49m\u001b[43m=\u001b[49m\u001b[43mheaders\u001b[49m\u001b[43m,\u001b[49m\n\u001b[32m    794\u001b[39m \u001b[43m    \u001b[49m\u001b[43mchunked\u001b[49m\u001b[43m=\u001b[49m\u001b[43mchunked\u001b[49m\u001b[43m,\u001b[49m\n\u001b[32m    795\u001b[39m \u001b[43m    \u001b[49m\u001b[43mretries\u001b[49m\u001b[43m=\u001b[49m\u001b[43mretries\u001b[49m\u001b[43m,\u001b[49m\n\u001b[32m    796\u001b[39m \u001b[43m    \u001b[49m\u001b[43mresponse_conn\u001b[49m\u001b[43m=\u001b[49m\u001b[43mresponse_conn\u001b[49m\u001b[43m,\u001b[49m\n\u001b[32m    797\u001b[39m \u001b[43m    \u001b[49m\u001b[43mpreload_content\u001b[49m\u001b[43m=\u001b[49m\u001b[43mpreload_content\u001b[49m\u001b[43m,\u001b[49m\n\u001b[32m    798\u001b[39m \u001b[43m    \u001b[49m\u001b[43mdecode_content\u001b[49m\u001b[43m=\u001b[49m\u001b[43mdecode_content\u001b[49m\u001b[43m,\u001b[49m\n\u001b[32m    799\u001b[39m \u001b[43m    \u001b[49m\u001b[43m*\u001b[49m\u001b[43m*\u001b[49m\u001b[43mresponse_kw\u001b[49m\u001b[43m,\u001b[49m\n\u001b[32m    800\u001b[39m \u001b[43m\u001b[49m\u001b[43m)\u001b[49m\n\u001b[32m    802\u001b[39m \u001b[38;5;66;03m# Everything went great!\u001b[39;00m\n\u001b[32m    803\u001b[39m clean_exit = \u001b[38;5;28;01mTrue\u001b[39;00m\n",
      "\u001b[36mFile \u001b[39m\u001b[32m~/Documents/Dev/DataScientest/OPA/.venv/lib/python3.13/site-packages/urllib3/connectionpool.py:534\u001b[39m, in \u001b[36mHTTPConnectionPool._make_request\u001b[39m\u001b[34m(self, conn, method, url, body, headers, retries, timeout, chunked, response_conn, preload_content, decode_content, enforce_content_length)\u001b[39m\n\u001b[32m    532\u001b[39m \u001b[38;5;66;03m# Receive the response from the server\u001b[39;00m\n\u001b[32m    533\u001b[39m \u001b[38;5;28;01mtry\u001b[39;00m:\n\u001b[32m--> \u001b[39m\u001b[32m534\u001b[39m     response = \u001b[43mconn\u001b[49m\u001b[43m.\u001b[49m\u001b[43mgetresponse\u001b[49m\u001b[43m(\u001b[49m\u001b[43m)\u001b[49m\n\u001b[32m    535\u001b[39m \u001b[38;5;28;01mexcept\u001b[39;00m (BaseSSLError, \u001b[38;5;167;01mOSError\u001b[39;00m) \u001b[38;5;28;01mas\u001b[39;00m e:\n\u001b[32m    536\u001b[39m     \u001b[38;5;28mself\u001b[39m._raise_timeout(err=e, url=url, timeout_value=read_timeout)\n",
      "\u001b[36mFile \u001b[39m\u001b[32m~/Documents/Dev/DataScientest/OPA/.venv/lib/python3.13/site-packages/urllib3/connection.py:565\u001b[39m, in \u001b[36mHTTPConnection.getresponse\u001b[39m\u001b[34m(self)\u001b[39m\n\u001b[32m    562\u001b[39m _shutdown = \u001b[38;5;28mgetattr\u001b[39m(\u001b[38;5;28mself\u001b[39m.sock, \u001b[33m\"\u001b[39m\u001b[33mshutdown\u001b[39m\u001b[33m\"\u001b[39m, \u001b[38;5;28;01mNone\u001b[39;00m)\n\u001b[32m    564\u001b[39m \u001b[38;5;66;03m# Get the response from http.client.HTTPConnection\u001b[39;00m\n\u001b[32m--> \u001b[39m\u001b[32m565\u001b[39m httplib_response = \u001b[38;5;28;43msuper\u001b[39;49m\u001b[43m(\u001b[49m\u001b[43m)\u001b[49m\u001b[43m.\u001b[49m\u001b[43mgetresponse\u001b[49m\u001b[43m(\u001b[49m\u001b[43m)\u001b[49m\n\u001b[32m    567\u001b[39m \u001b[38;5;28;01mtry\u001b[39;00m:\n\u001b[32m    568\u001b[39m     assert_header_parsing(httplib_response.msg)\n",
      "\u001b[36mFile \u001b[39m\u001b[32m/opt/homebrew/Cellar/python@3.13/3.13.3_1/Frameworks/Python.framework/Versions/3.13/lib/python3.13/http/client.py:1430\u001b[39m, in \u001b[36mHTTPConnection.getresponse\u001b[39m\u001b[34m(self)\u001b[39m\n\u001b[32m   1428\u001b[39m \u001b[38;5;28;01mtry\u001b[39;00m:\n\u001b[32m   1429\u001b[39m     \u001b[38;5;28;01mtry\u001b[39;00m:\n\u001b[32m-> \u001b[39m\u001b[32m1430\u001b[39m         \u001b[43mresponse\u001b[49m\u001b[43m.\u001b[49m\u001b[43mbegin\u001b[49m\u001b[43m(\u001b[49m\u001b[43m)\u001b[49m\n\u001b[32m   1431\u001b[39m     \u001b[38;5;28;01mexcept\u001b[39;00m \u001b[38;5;167;01mConnectionError\u001b[39;00m:\n\u001b[32m   1432\u001b[39m         \u001b[38;5;28mself\u001b[39m.close()\n",
      "\u001b[36mFile \u001b[39m\u001b[32m/opt/homebrew/Cellar/python@3.13/3.13.3_1/Frameworks/Python.framework/Versions/3.13/lib/python3.13/http/client.py:331\u001b[39m, in \u001b[36mHTTPResponse.begin\u001b[39m\u001b[34m(self)\u001b[39m\n\u001b[32m    329\u001b[39m \u001b[38;5;66;03m# read until we get a non-100 response\u001b[39;00m\n\u001b[32m    330\u001b[39m \u001b[38;5;28;01mwhile\u001b[39;00m \u001b[38;5;28;01mTrue\u001b[39;00m:\n\u001b[32m--> \u001b[39m\u001b[32m331\u001b[39m     version, status, reason = \u001b[38;5;28;43mself\u001b[39;49m\u001b[43m.\u001b[49m\u001b[43m_read_status\u001b[49m\u001b[43m(\u001b[49m\u001b[43m)\u001b[49m\n\u001b[32m    332\u001b[39m     \u001b[38;5;28;01mif\u001b[39;00m status != CONTINUE:\n\u001b[32m    333\u001b[39m         \u001b[38;5;28;01mbreak\u001b[39;00m\n",
      "\u001b[36mFile \u001b[39m\u001b[32m/opt/homebrew/Cellar/python@3.13/3.13.3_1/Frameworks/Python.framework/Versions/3.13/lib/python3.13/http/client.py:292\u001b[39m, in \u001b[36mHTTPResponse._read_status\u001b[39m\u001b[34m(self)\u001b[39m\n\u001b[32m    291\u001b[39m \u001b[38;5;28;01mdef\u001b[39;00m\u001b[38;5;250m \u001b[39m\u001b[34m_read_status\u001b[39m(\u001b[38;5;28mself\u001b[39m):\n\u001b[32m--> \u001b[39m\u001b[32m292\u001b[39m     line = \u001b[38;5;28mstr\u001b[39m(\u001b[38;5;28;43mself\u001b[39;49m\u001b[43m.\u001b[49m\u001b[43mfp\u001b[49m\u001b[43m.\u001b[49m\u001b[43mreadline\u001b[49m\u001b[43m(\u001b[49m\u001b[43m_MAXLINE\u001b[49m\u001b[43m \u001b[49m\u001b[43m+\u001b[49m\u001b[43m \u001b[49m\u001b[32;43m1\u001b[39;49m\u001b[43m)\u001b[49m, \u001b[33m\"\u001b[39m\u001b[33miso-8859-1\u001b[39m\u001b[33m\"\u001b[39m)\n\u001b[32m    293\u001b[39m     \u001b[38;5;28;01mif\u001b[39;00m \u001b[38;5;28mlen\u001b[39m(line) > _MAXLINE:\n\u001b[32m    294\u001b[39m         \u001b[38;5;28;01mraise\u001b[39;00m LineTooLong(\u001b[33m\"\u001b[39m\u001b[33mstatus line\u001b[39m\u001b[33m\"\u001b[39m)\n",
      "\u001b[36mFile \u001b[39m\u001b[32m/opt/homebrew/Cellar/python@3.13/3.13.3_1/Frameworks/Python.framework/Versions/3.13/lib/python3.13/socket.py:719\u001b[39m, in \u001b[36mSocketIO.readinto\u001b[39m\u001b[34m(self, b)\u001b[39m\n\u001b[32m    717\u001b[39m     \u001b[38;5;28;01mraise\u001b[39;00m \u001b[38;5;167;01mOSError\u001b[39;00m(\u001b[33m\"\u001b[39m\u001b[33mcannot read from timed out object\u001b[39m\u001b[33m\"\u001b[39m)\n\u001b[32m    718\u001b[39m \u001b[38;5;28;01mtry\u001b[39;00m:\n\u001b[32m--> \u001b[39m\u001b[32m719\u001b[39m     \u001b[38;5;28;01mreturn\u001b[39;00m \u001b[38;5;28;43mself\u001b[39;49m\u001b[43m.\u001b[49m\u001b[43m_sock\u001b[49m\u001b[43m.\u001b[49m\u001b[43mrecv_into\u001b[49m\u001b[43m(\u001b[49m\u001b[43mb\u001b[49m\u001b[43m)\u001b[49m\n\u001b[32m    720\u001b[39m \u001b[38;5;28;01mexcept\u001b[39;00m timeout:\n\u001b[32m    721\u001b[39m     \u001b[38;5;28mself\u001b[39m._timeout_occurred = \u001b[38;5;28;01mTrue\u001b[39;00m\n",
      "\u001b[36mFile \u001b[39m\u001b[32m/opt/homebrew/Cellar/python@3.13/3.13.3_1/Frameworks/Python.framework/Versions/3.13/lib/python3.13/ssl.py:1304\u001b[39m, in \u001b[36mSSLSocket.recv_into\u001b[39m\u001b[34m(self, buffer, nbytes, flags)\u001b[39m\n\u001b[32m   1300\u001b[39m     \u001b[38;5;28;01mif\u001b[39;00m flags != \u001b[32m0\u001b[39m:\n\u001b[32m   1301\u001b[39m         \u001b[38;5;28;01mraise\u001b[39;00m \u001b[38;5;167;01mValueError\u001b[39;00m(\n\u001b[32m   1302\u001b[39m           \u001b[33m\"\u001b[39m\u001b[33mnon-zero flags not allowed in calls to recv_into() on \u001b[39m\u001b[38;5;132;01m%s\u001b[39;00m\u001b[33m\"\u001b[39m %\n\u001b[32m   1303\u001b[39m           \u001b[38;5;28mself\u001b[39m.\u001b[34m__class__\u001b[39m)\n\u001b[32m-> \u001b[39m\u001b[32m1304\u001b[39m     \u001b[38;5;28;01mreturn\u001b[39;00m \u001b[38;5;28;43mself\u001b[39;49m\u001b[43m.\u001b[49m\u001b[43mread\u001b[49m\u001b[43m(\u001b[49m\u001b[43mnbytes\u001b[49m\u001b[43m,\u001b[49m\u001b[43m \u001b[49m\u001b[43mbuffer\u001b[49m\u001b[43m)\u001b[49m\n\u001b[32m   1305\u001b[39m \u001b[38;5;28;01melse\u001b[39;00m:\n\u001b[32m   1306\u001b[39m     \u001b[38;5;28;01mreturn\u001b[39;00m \u001b[38;5;28msuper\u001b[39m().recv_into(buffer, nbytes, flags)\n",
      "\u001b[36mFile \u001b[39m\u001b[32m/opt/homebrew/Cellar/python@3.13/3.13.3_1/Frameworks/Python.framework/Versions/3.13/lib/python3.13/ssl.py:1138\u001b[39m, in \u001b[36mSSLSocket.read\u001b[39m\u001b[34m(self, len, buffer)\u001b[39m\n\u001b[32m   1136\u001b[39m \u001b[38;5;28;01mtry\u001b[39;00m:\n\u001b[32m   1137\u001b[39m     \u001b[38;5;28;01mif\u001b[39;00m buffer \u001b[38;5;129;01mis\u001b[39;00m \u001b[38;5;129;01mnot\u001b[39;00m \u001b[38;5;28;01mNone\u001b[39;00m:\n\u001b[32m-> \u001b[39m\u001b[32m1138\u001b[39m         \u001b[38;5;28;01mreturn\u001b[39;00m \u001b[38;5;28;43mself\u001b[39;49m\u001b[43m.\u001b[49m\u001b[43m_sslobj\u001b[49m\u001b[43m.\u001b[49m\u001b[43mread\u001b[49m\u001b[43m(\u001b[49m\u001b[38;5;28;43mlen\u001b[39;49m\u001b[43m,\u001b[49m\u001b[43m \u001b[49m\u001b[43mbuffer\u001b[49m\u001b[43m)\u001b[49m\n\u001b[32m   1139\u001b[39m     \u001b[38;5;28;01melse\u001b[39;00m:\n\u001b[32m   1140\u001b[39m         \u001b[38;5;28;01mreturn\u001b[39;00m \u001b[38;5;28mself\u001b[39m._sslobj.read(\u001b[38;5;28mlen\u001b[39m)\n",
      "\u001b[31mKeyboardInterrupt\u001b[39m: "
     ]
    }
   ],
   "source": [
    "# Récupération de toutes les données\n",
    "url = 'https://api.binance.com/api/v3/exchangeInfo'\n",
    "data = requests.get(url).json()\n",
    "pair_list = data['symbols']\n",
    "\n",
    "# Boucle sur chaque paire avec son nom\n",
    "pairs_base_infos = []\n",
    "for pair in pair_list:\n",
    "    info = get_pair_info(pair['symbol'])\n",
    "    if info is not None:\n",
    "        pairs_base_infos.append(info)\n",
    "\n",
    "# Création du DataFrame final\n",
    "df_pairs_base_infos = pd.DataFrame(pairs_base_infos)\n",
    "\n",
    "# Affichage\n",
    "print(df_pairs_base_infos.head())"
   ]
  },
  {
   "cell_type": "code",
   "execution_count": null,
   "id": "f8a4978e",
   "metadata": {},
   "outputs": [],
   "source": []
  },
  {
   "cell_type": "code",
   "execution_count": null,
   "id": "fd6e614f",
   "metadata": {},
   "outputs": [],
   "source": []
  },
  {
   "cell_type": "code",
   "execution_count": null,
   "id": "dce205c2",
   "metadata": {},
   "outputs": [],
   "source": []
  },
  {
   "cell_type": "code",
   "execution_count": null,
   "id": "c4ed6787",
   "metadata": {},
   "outputs": [],
   "source": [
    "resp = requests.get('https://api.binance.us/api/v3/trades?{BTCUSDT}')\n",
    "\n",
    "resp.json()"
   ]
  },
  {
   "cell_type": "code",
   "execution_count": null,
   "id": "90ca058f",
   "metadata": {},
   "outputs": [],
   "source": [
    "url = 'https://api.binance.com/api/v3/ticker/24hr'\n",
    "data = requests.get(url).json()\n",
    "data"
   ]
  },
  {
   "cell_type": "code",
   "execution_count": null,
   "id": "8eb5a95b",
   "metadata": {},
   "outputs": [],
   "source": [
    "url = 'https://api.binance.com/api/v3/ticker/price'\n",
    "response = requests.get(url)\n",
    "tickers = response.json()\n",
    "\n",
    "tickers"
   ]
  }
 ],
 "metadata": {
  "kernelspec": {
   "display_name": ".venv",
   "language": "python",
   "name": "python3"
  },
  "language_info": {
   "codemirror_mode": {
    "name": "ipython",
    "version": 3
   },
   "file_extension": ".py",
   "mimetype": "text/x-python",
   "name": "python",
   "nbconvert_exporter": "python",
   "pygments_lexer": "ipython3",
   "version": "3.13.3"
  }
 },
 "nbformat": 4,
 "nbformat_minor": 5
}
